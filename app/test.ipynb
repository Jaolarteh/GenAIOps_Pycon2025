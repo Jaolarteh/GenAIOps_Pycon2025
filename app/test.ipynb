{
 "cells": [
  {
   "cell_type": "code",
   "execution_count": 2,
   "id": "6bc45729",
   "metadata": {},
   "outputs": [
    {
     "ename": "ModuleNotFoundError",
     "evalue": "No module named 'mlflow'",
     "output_type": "error",
     "traceback": [
      "\u001b[31m---------------------------------------------------------------------------\u001b[39m",
      "\u001b[31mModuleNotFoundError\u001b[39m                       Traceback (most recent call last)",
      "\u001b[36mCell\u001b[39m\u001b[36m \u001b[39m\u001b[32mIn[2]\u001b[39m\u001b[32m, line 2\u001b[39m\n\u001b[32m      1\u001b[39m \u001b[38;5;28;01mimport\u001b[39;00m\u001b[38;5;250m \u001b[39m\u001b[34;01mjson\u001b[39;00m\n\u001b[32m----> \u001b[39m\u001b[32m2\u001b[39m \u001b[38;5;28;01mimport\u001b[39;00m\u001b[38;5;250m \u001b[39m\u001b[34;01mmlflow\u001b[39;00m\n\u001b[32m      3\u001b[39m \u001b[38;5;28;01mfrom\u001b[39;00m\u001b[38;5;250m \u001b[39m\u001b[34;01mdotenv\u001b[39;00m\u001b[38;5;250m \u001b[39m\u001b[38;5;28;01mimport\u001b[39;00m load_dotenv\n\u001b[32m      4\u001b[39m \u001b[38;5;28;01mfrom\u001b[39;00m\u001b[38;5;250m \u001b[39m\u001b[34;01mapp\u001b[39;00m\u001b[34;01m.\u001b[39;00m\u001b[34;01mrag_pipeline\u001b[39;00m\u001b[38;5;250m \u001b[39m\u001b[38;5;28;01mimport\u001b[39;00m load_vectorstore_from_disk, build_chain\n",
      "\u001b[31mModuleNotFoundError\u001b[39m: No module named 'mlflow'"
     ]
    }
   ],
   "source": [
    "\n",
    "\n",
    "import json\n",
    "import mlflow\n",
    "from dotenv import load_dotenv\n",
    "from app.rag_pipeline import load_vectorstore_from_disk, build_chain\n",
    "\n",
    "from langchain_openai import ChatOpenAI\n",
    "from langchain.evaluation.qa import QAEvalChain\n",
    "from langchain.evaluation.criteria import LabeledCriteriaEvalChain\n",
    "\n",
    "\n",
    "load_dotenv()\n",
    "\n",
    "# Configuración\n",
    "PROMPT_VERSION = os.getenv(\"PROMPT_VERSION\", \"v1_asistente\")"
   ]
  },
  {
   "cell_type": "code",
   "execution_count": 3,
   "id": "2914218a",
   "metadata": {},
   "outputs": [],
   "source": [
    "import os"
   ]
  },
  {
   "cell_type": "code",
   "execution_count": 4,
   "id": "d734f207",
   "metadata": {},
   "outputs": [],
   "source": [
    "PROMPT_VERSION = os.getenv(\"PROMPT_VERSION\", \"v1_asistente\")"
   ]
  },
  {
   "cell_type": "code",
   "execution_count": 5,
   "id": "853a6a5d",
   "metadata": {},
   "outputs": [
    {
     "data": {
      "text/plain": [
       "'v1_asistente_rrhh'"
      ]
     },
     "execution_count": 5,
     "metadata": {},
     "output_type": "execute_result"
    }
   ],
   "source": [
    "PROMPT_VERSION"
   ]
  }
 ],
 "metadata": {
  "kernelspec": {
   "display_name": "Python 3",
   "language": "python",
   "name": "python3"
  },
  "language_info": {
   "codemirror_mode": {
    "name": "ipython",
    "version": 3
   },
   "file_extension": ".py",
   "mimetype": "text/x-python",
   "name": "python",
   "nbconvert_exporter": "python",
   "pygments_lexer": "ipython3",
   "version": "3.11.13"
  }
 },
 "nbformat": 4,
 "nbformat_minor": 5
}
